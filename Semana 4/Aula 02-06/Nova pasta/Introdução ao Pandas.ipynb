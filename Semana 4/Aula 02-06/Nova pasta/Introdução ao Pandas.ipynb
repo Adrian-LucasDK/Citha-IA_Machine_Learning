{
 "cells": [
  {
   "cell_type": "markdown",
   "metadata": {},
   "source": [
    "# pandas - \"A melhor biblioteca do Python para Dados\"\n",
    "\n",
    "- Quase sempre que você for trabalhar com dados no Python você vai usar o pandas, então é importante você saber trabalhar com essa biblioteca muito bem\n",
    "\n",
    "- Vamos aprender os principais comandos e os princípios básicos do pandas\n",
    "\n",
    "- Faça o download do Gabarito desse arquivo e use como uma cartilha de consulta (Link na descrição)"
   ]
  },
  {
   "cell_type": "markdown",
   "metadata": {},
   "source": [
    "### Importando o pandas"
   ]
  },
  {
   "cell_type": "code",
   "execution_count": null,
   "metadata": {},
   "outputs": [],
   "source": [
    "import pandas as pd"
   ]
  },
  {
   "cell_type": "markdown",
   "metadata": {},
   "source": [
    "### Criando um dataframe a partir de um dicionário"
   ]
  },
  {
   "cell_type": "code",
   "execution_count": null,
   "metadata": {},
   "outputs": [],
   "source": [
    "# dataframe = pd.DataFrame()\n",
    "venda = {'data': ['15/02/2021', '16/02/2021'],\n",
    "         'valor': [500, 300],\n",
    "         'produto': ['feijao', 'arroz'],\n",
    "         'qtde': [50, 70],\n",
    "        }\n",
    "vendas_df = pd.DataFrame(venda) "
   ]
  },
  {
   "cell_type": "markdown",
   "metadata": {},
   "source": [
    "### Visualização dos Dados\n",
    "    - print\n",
    "    - display"
   ]
  },
  {
   "cell_type": "code",
   "execution_count": null,
   "metadata": {},
   "outputs": [],
   "source": [
    "display(vendas_df)"
   ]
  },
  {
   "cell_type": "markdown",
   "metadata": {},
   "source": [
    "### Importando arquivos e bases de dados"
   ]
  },
  {
   "cell_type": "code",
   "execution_count": null,
   "metadata": {},
   "outputs": [],
   "source": [
    "vendas_df = pd.read_excel(\"Vendas.xlsx\")\n",
    "display(vendas_df)"
   ]
  },
  {
   "cell_type": "markdown",
   "metadata": {},
   "source": [
    "### Resumos de Visualização de Dados simples e úteis\n",
    "    - head\n",
    "    - shape\n",
    "    - describe"
   ]
  },
  {
   "cell_type": "code",
   "execution_count": null,
   "metadata": {},
   "outputs": [],
   "source": [
    "display(vendas_df.head(10))\n",
    "print(vendas_df.shape)\n",
    "display(vendas_df.describe())"
   ]
  },
  {
   "cell_type": "markdown",
   "metadata": {},
   "source": [
    "### Pegar 1 coluna (e os pd.Series)"
   ]
  },
  {
   "cell_type": "code",
   "execution_count": null,
   "metadata": {},
   "outputs": [],
   "source": [
    "produtos = vendas_df[['Produto', 'ID Loja']]\n",
    "display(produtos)"
   ]
  },
  {
   "cell_type": "markdown",
   "metadata": {},
   "source": [
    "### .loc, um método muito importante\n",
    "    - Pegar 1 linha\n",
    "    - Pegar linhas de acordo com alguma condição\n",
    "    - Pegar linhas e colunas específicas\n",
    "    - Pegar 1 valor específico"
   ]
  },
  {
   "cell_type": "code",
   "execution_count": null,
   "metadata": {},
   "outputs": [],
   "source": [
    "# pegar uma linha\n",
    "display(vendas_df.loc[1:5])\n",
    "\n",
    "# pegar linhas que correspondem a uma condição\n",
    "vendas_norteshopping_df = vendas_df.loc[vendas_df['ID Loja'] == 'Norte Shopping']\n",
    "\n",
    "# pegar várias linhas e colunas usando o loc\n",
    "vendas_norteshopping_df = vendas_df.loc[vendas_df['ID Loja'] == 'Norte Shopping', [\"ID Loja\", \"Produto\", \"Quantidade\"]]\n",
    "display(vendas_norteshopping_df)\n",
    "\n",
    "# pegar 1 valor específico\n",
    "print(vendas_df.loc[1, 'Produto'])\n"
   ]
  },
  {
   "cell_type": "markdown",
   "metadata": {},
   "source": [
    "### Adicionar 1 coluna"
   ]
  },
  {
   "cell_type": "code",
   "execution_count": null,
   "metadata": {},
   "outputs": [],
   "source": [
    "# a partir de uma coluna que existe\n",
    "vendas_df['Comissão'] = vendas_df['Valor Final'] * 0.05\n",
    "# display(vendas_df)\n",
    "\n",
    "# criar uma coluna com valor padrão\n",
    "vendas_df.loc[:, \"Imposto\"] = 0\n",
    "display(vendas_df)"
   ]
  },
  {
   "cell_type": "markdown",
   "metadata": {},
   "source": [
    "### Adicionar 1 linha\n",
    "    - Linhas de um complemento da base de dados"
   ]
  },
  {
   "cell_type": "code",
   "execution_count": null,
   "metadata": {},
   "outputs": [],
   "source": [
    "vendas_dez_df = pd.read_excel(\"Vendas - Dez.xlsx\")\n",
    "#display(vendas_dez_df)\n",
    "\n",
    "vendas_df = vendas_df.append(vendas_dez_df)\n",
    "display(vendas_df)"
   ]
  },
  {
   "cell_type": "markdown",
   "metadata": {},
   "source": [
    "### Excluir linhas e colunas"
   ]
  },
  {
   "cell_type": "code",
   "execution_count": null,
   "metadata": {},
   "outputs": [],
   "source": [
    "vendas_df = vendas_df.drop(0, axis=0)\n",
    "display(vendas_df)"
   ]
  },
  {
   "cell_type": "markdown",
   "metadata": {},
   "source": [
    "### Valores Vazios\n",
    "    - Deletar linhas/colunas vazias\n",
    "    - Deletar linhas que possuem valores vazios\n",
    "    - Preencher valores vazios (média e último valor)"
   ]
  },
  {
   "cell_type": "code",
   "execution_count": null,
   "metadata": {},
   "outputs": [],
   "source": [
    "# deletar linhas e colunas completamente vazias\n",
    "#vendas_df = vendas_df.dropna(how='all', axis=1)\n",
    "\n",
    "# deletar linhas que possuem pelo menos 1 valor vazio\n",
    "#vendas_df = vendas_df.dropna()\n",
    "\n",
    "# preencher valores vazios\n",
    "# preencher com a média da coluna\n",
    "vendas_df['Comissão'] = vendas_df['Comissão'].fillna(vendas_df['Comissão'].mean())\n",
    "display(vendas_df)\n",
    "\n",
    "# preencher com o último valor\n",
    "vendas_df = vendas_df.ffill()"
   ]
  },
  {
   "cell_type": "markdown",
   "metadata": {},
   "source": [
    "### Calcular Indicadores\n",
    "    - Groupby\n",
    "    - Value Counts"
   ]
  },
  {
   "cell_type": "code",
   "execution_count": null,
   "metadata": {},
   "outputs": [],
   "source": [
    "# value counts\n",
    "transacoes_loja = vendas_df['ID Loja'].value_counts()\n",
    "display(transacoes_loja)\n",
    "\n",
    "# group by\n",
    "faturamento_produto = vendas_df[['Produto', 'Valor Final']].groupby('Produto').sum()\n",
    "display(faturamento_produto)"
   ]
  },
  {
   "cell_type": "markdown",
   "metadata": {},
   "source": [
    "### Mesclar 2 dataframes (Procurar informações de um dataframe em outro)"
   ]
  },
  {
   "cell_type": "code",
   "execution_count": null,
   "metadata": {},
   "outputs": [],
   "source": [
    "gerentes_df = pd.read_excel(\"Gerentes.xlsx\")\n",
    "# display(gerentes_df)\n",
    "\n",
    "vendas_df = vendas_df.merge(gerentes_df)\n",
    "display(vendas_df)"
   ]
  },
  {
   "cell_type": "markdown",
   "metadata": {},
   "source": [
    "### Como continuar aprendendo?\n",
    "\n",
    "### Minicurso Gratuito de Análise de Dados com Python na Descrição"
   ]
  }
 ],
 "metadata": {
  "kernelspec": {
   "display_name": "Python 3",
   "language": "python",
   "name": "python3"
  },
  "language_info": {
   "codemirror_mode": {
    "name": "ipython",
    "version": 3
   },
   "file_extension": ".py",
   "mimetype": "text/x-python",
   "name": "python",
   "nbconvert_exporter": "python",
   "pygments_lexer": "ipython3",
   "version": "3.13.3"
  }
 },
 "nbformat": 4,
 "nbformat_minor": 4
}
