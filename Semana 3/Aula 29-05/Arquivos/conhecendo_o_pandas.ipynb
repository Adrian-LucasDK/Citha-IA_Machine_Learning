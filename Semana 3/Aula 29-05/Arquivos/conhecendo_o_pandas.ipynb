{
 "cells": [
  {
   "cell_type": "code",
   "execution_count": null,
   "metadata": {
    "id": "ejOrwhyjvfmM"
   },
   "outputs": [],
   "source": [
    "# importando o pandas\n",
    "import pandas as pd"
   ]
  },
  {
   "cell_type": "code",
   "execution_count": null,
   "metadata": {
    "colab": {
     "base_uri": "https://localhost:8080/",
     "height": 35
    },
    "id": "qWS5u509v1s5",
    "jupyter": {
     "source_hidden": true
    },
    "outputId": "23ecef50-3b49-4f59-fd95-aad1ae2837ac"
   },
   "outputs": [],
   "source": [
    "# verificando a versão instalada\n",
    "pd.__version__"
   ]
  },
  {
   "cell_type": "code",
   "execution_count": null,
   "metadata": {
    "id": "dkF0qu83wqgC"
   },
   "outputs": [],
   "source": [
    "# criando duas Series, fabricantes de carro e cores\n",
    "carros = pd.Series([\"Toyota\", \"Honda\", \"BMW\"])\n",
    "cores = pd.Series([\"Azul\", \"Branco\", \"Vermelho\"])"
   ]
  },
  {
   "cell_type": "code",
   "execution_count": null,
   "metadata": {
    "colab": {
     "base_uri": "https://localhost:8080/"
    },
    "id": "qj6wgQUd0CR_",
    "outputId": "e9f15fd6-d380-4c67-821e-3dab559d4f02"
   },
   "outputs": [],
   "source": [
    "# exibindo os valores da Serie\n",
    "carros"
   ]
  },
  {
   "cell_type": "code",
   "execution_count": null,
   "metadata": {
    "colab": {
     "base_uri": "https://localhost:8080/"
    },
    "id": "BkTSFeOE0DDx",
    "outputId": "de77f17b-77a7-4c13-f920-aaf531cfb9d3"
   },
   "outputs": [],
   "source": [
    "cores"
   ]
  },
  {
   "cell_type": "code",
   "execution_count": null,
   "metadata": {
    "colab": {
     "base_uri": "https://localhost:8080/",
     "height": 143
    },
    "id": "KGPi82dM0Dvq",
    "outputId": "92a3b1e9-c23c-4e76-cefa-e9ec5fe70705"
   },
   "outputs": [],
   "source": [
    "# criando um DataFrame de carros e cores\n",
    "df = pd.DataFrame({\"Fabricante\": carros,\n",
    "                   \"Cores\": cores})\n",
    "df"
   ]
  },
  {
   "cell_type": "code",
   "execution_count": null,
   "metadata": {
    "colab": {
     "base_uri": "https://localhost:8080/",
     "height": 363
    },
    "id": "N6O3Nm4a1i9Q",
    "outputId": "4898bc59-87de-4c19-8114-8d1cd1eddf5e"
   },
   "outputs": [],
   "source": [
    "# importando os dados de venda de carros\n",
    "df = pd.read_csv(\"venda-de-carros.csv\")\n",
    "df"
   ]
  },
  {
   "cell_type": "code",
   "execution_count": null,
   "metadata": {
    "colab": {
     "base_uri": "https://localhost:8080/"
    },
    "id": "vqxfbHCR7p3c",
    "outputId": "d38daa0f-2c9c-420e-a9a2-11f5ee62ce4c"
   },
   "outputs": [],
   "source": [
    "# verificando os tipos de dados do DataFrame\n",
    "df.dtypes"
   ]
  },
  {
   "cell_type": "code",
   "execution_count": null,
   "metadata": {
    "colab": {
     "base_uri": "https://localhost:8080/",
     "height": 300
    },
    "id": "XPOAuyHvo9CN",
    "outputId": "c5d5e722-3c64-4c56-abb4-456f924a55dc"
   },
   "outputs": [],
   "source": [
    "# verificando informações estatísticas dos dados\n",
    "df.describe()"
   ]
  },
  {
   "cell_type": "code",
   "execution_count": null,
   "metadata": {
    "colab": {
     "base_uri": "https://localhost:8080/"
    },
    "id": "IibSWI_Pp4yD",
    "outputId": "845779df-a86c-449b-8496-15bed5463e3d"
   },
   "outputs": [],
   "source": [
    "# verificando informações sobre os dados do DataFrame\n",
    "# quantidade de linhas, colunas, tipos de dados, etc\n",
    "df.info()"
   ]
  },
  {
   "cell_type": "code",
   "execution_count": null,
   "metadata": {
    "colab": {
     "base_uri": "https://localhost:8080/"
    },
    "id": "YNWkvfFPtLmr",
    "outputId": "82d930a7-8667-4026-8769-f04ba1a60791"
   },
   "outputs": [],
   "source": [
    "# chamando a função mean()\n",
    "valores = pd.Series([3000, 3500, 11250])\n",
    "valores.mean()"
   ]
  },
  {
   "cell_type": "code",
   "execution_count": null,
   "metadata": {
    "colab": {
     "base_uri": "https://localhost:8080/"
    },
    "id": "Ci4cY2gL1czP",
    "outputId": "77d24d2a-d446-4b6d-8a1d-79b47b9639ff"
   },
   "outputs": [],
   "source": [
    "# utilizando a função sum()\n",
    "valores.sum()"
   ]
  },
  {
   "cell_type": "code",
   "execution_count": null,
   "metadata": {
    "colab": {
     "base_uri": "https://localhost:8080/"
    },
    "id": "KHciT-Rw1yFB",
    "outputId": "4a8231c7-3acf-47b8-d102-58c08e9e9cec"
   },
   "outputs": [],
   "source": [
    "# exibindo os nomes das colunas do DataFrame\n",
    "df.columns"
   ]
  },
  {
   "cell_type": "code",
   "execution_count": null,
   "metadata": {
    "colab": {
     "base_uri": "https://localhost:8080/"
    },
    "id": "m8X8GFKG2esc",
    "outputId": "65efcefa-9201-4113-dc46-d44a765125f9"
   },
   "outputs": [],
   "source": [
    "df[\"Quilometragem\"].mean()"
   ]
  },
  {
   "cell_type": "code",
   "execution_count": null,
   "metadata": {
    "colab": {
     "base_uri": "https://localhost:8080/",
     "height": 206
    },
    "id": "IsXpaVgr3OvZ",
    "outputId": "f5b69dc9-20c3-4b85-b181-0e64a686532e"
   },
   "outputs": [],
   "source": [
    "# exibindo as primeiras 5 linhas do DataFrame\n",
    "df.head()"
   ]
  },
  {
   "cell_type": "code",
   "execution_count": null,
   "metadata": {
    "colab": {
     "base_uri": "https://localhost:8080/",
     "height": 206
    },
    "id": "4DfH6ItY48_p",
    "outputId": "76d2b0e7-4c6a-4ea3-9bc8-61b44abe2d7a"
   },
   "outputs": [],
   "source": [
    "# exibindo as últimas 5 linhas do DataFrame\n",
    "df.tail()"
   ]
  },
  {
   "cell_type": "code",
   "execution_count": null,
   "metadata": {
    "colab": {
     "base_uri": "https://localhost:8080/"
    },
    "id": "uj484WqO6EPp",
    "outputId": "e34b0f29-d87e-4445-a0d3-812627df6f57"
   },
   "outputs": [],
   "source": [
    "# criando uma Serie exemplo\n",
    "animais = pd.Series([\"gato\", \"ave\", \"cachorro\", \"cobra\", \"leão\", \"cavalo\"], \n",
    "                   index=[0, 3, 8, 9, 6, 3])\n",
    "animais"
   ]
  },
  {
   "cell_type": "code",
   "execution_count": null,
   "metadata": {
    "colab": {
     "base_uri": "https://localhost:8080/"
    },
    "id": "e5qG4onKOA9I",
    "outputId": "29dfdeff-a783-4543-cdc2-11944aabf803"
   },
   "outputs": [],
   "source": [
    "# selecionando todos os dados que contém o índice 3\n",
    "animais.loc[3]"
   ]
  },
  {
   "cell_type": "code",
   "execution_count": null,
   "metadata": {
    "colab": {
     "base_uri": "https://localhost:8080/",
     "height": 35
    },
    "id": "Tw7L3dyVO1Bz",
    "outputId": "5c6f4fe7-3d79-443c-ff3d-ec5da2f479f2"
   },
   "outputs": [],
   "source": [
    "# selecionando os dados na 3° posição no DataFrame\n",
    "animais.iloc[3]"
   ]
  },
  {
   "cell_type": "code",
   "execution_count": null,
   "metadata": {
    "colab": {
     "base_uri": "https://localhost:8080/"
    },
    "id": "gwhvpt-YZCLl",
    "outputId": "6d0c6d81-76e3-42c1-b4bf-de443a2f96cf"
   },
   "outputs": [],
   "source": [
    "df.loc[3]"
   ]
  },
  {
   "cell_type": "code",
   "execution_count": null,
   "metadata": {
    "colab": {
     "base_uri": "https://localhost:8080/"
    },
    "id": "IxlHLxM5ZwRY",
    "outputId": "d39eb430-a58a-45a0-a7a6-755b75a83e40"
   },
   "outputs": [],
   "source": [
    "df.iloc[3]"
   ]
  },
  {
   "cell_type": "code",
   "execution_count": null,
   "metadata": {
    "colab": {
     "base_uri": "https://localhost:8080/"
    },
    "id": "2uB-pS2RZyc6",
    "outputId": "de34c358-239d-4cc1-af63-c4afea7c98ff"
   },
   "outputs": [],
   "source": [
    "# selecionando os dados do inicio até a 3° posição no DataFrame\n",
    "animais.iloc[:3]"
   ]
  },
  {
   "cell_type": "code",
   "execution_count": null,
   "metadata": {
    "colab": {
     "base_uri": "https://localhost:8080/"
    },
    "id": "DK5DFdJsbNrc",
    "outputId": "6c98616f-6ab0-45f1-cd85-d0598f4f0fea"
   },
   "outputs": [],
   "source": [
    "# selecionando uma única coluna\n",
    "df[\"Fabricante\"]"
   ]
  },
  {
   "cell_type": "code",
   "execution_count": null,
   "metadata": {
    "colab": {
     "base_uri": "https://localhost:8080/",
     "height": 112
    },
    "id": "vAgA5M6FcHHI",
    "outputId": "40076edd-480b-4e76-9480-2d0e8d09cdd9"
   },
   "outputs": [],
   "source": [
    "# selecionando carros com quilometragem acima de 100.000\n",
    "df[df[\"Quilometragem\"] > 100000]"
   ]
  },
  {
   "cell_type": "code",
   "execution_count": null,
   "metadata": {
    "colab": {
     "base_uri": "https://localhost:8080/",
     "height": 143
    },
    "id": "3_eqU_yVZ2Zi",
    "outputId": "41dd0b3c-6bcb-4189-d7c7-6726a9884e6f"
   },
   "outputs": [],
   "source": [
    "# selecionando apenas os carros da Honda\n",
    "df[df[\"Fabricante\"] == \"Honda\"]"
   ]
  },
  {
   "cell_type": "code",
   "execution_count": null,
   "metadata": {
    "colab": {
     "base_uri": "https://localhost:8080/",
     "height": 206
    },
    "id": "DRYQRLyIbO24",
    "outputId": "7cd11409-65c3-4d8c-cb91-b092fd9853c3"
   },
   "outputs": [],
   "source": [
    "# agrupando os dados pelo fabricante e calculando a média das outras colunas\n",
    "df.groupby([\"Fabricante\"]).mean()"
   ]
  },
  {
   "cell_type": "code",
   "execution_count": null,
   "metadata": {
    "id": "DEjJ11tCb3yD"
   },
   "outputs": [],
   "source": [
    "# regex para transformar os dados da coluna Preco em números\n",
    "df[\"Preco\"] = df[\"Preco\"].str.replace('[/R$\\,]', '', regex=True)"
   ]
  },
  {
   "cell_type": "code",
   "execution_count": null,
   "metadata": {
    "colab": {
     "base_uri": "https://localhost:8080/",
     "height": 143
    },
    "id": "iLVj8fHfdyzw",
    "outputId": "8770e9a0-cc2b-4c6a-9b25-47b45c958957"
   },
   "outputs": [],
   "source": [
    "df.head(3)"
   ]
  },
  {
   "cell_type": "code",
   "execution_count": null,
   "metadata": {
    "colab": {
     "base_uri": "https://localhost:8080/"
    },
    "id": "jFivTIJhjlMX",
    "outputId": "43c597d4-cd03-4848-b338-04857f954187"
   },
   "outputs": [],
   "source": [
    "df.info()"
   ]
  },
  {
   "cell_type": "code",
   "execution_count": null,
   "metadata": {
    "colab": {
     "base_uri": "https://localhost:8080/",
     "height": 143
    },
    "id": "_x4uMe1xhZ2b",
    "outputId": "4dbf9fdb-1348-4315-b3ac-8ee645203a6a"
   },
   "outputs": [],
   "source": [
    "# convertendo os dados da coluna Preco para float64\n",
    "df[\"Preco\"] = pd.to_numeric(df[\"Preco\"])\n",
    "df.head(3)"
   ]
  },
  {
   "cell_type": "code",
   "execution_count": null,
   "metadata": {
    "colab": {
     "base_uri": "https://localhost:8080/"
    },
    "id": "_9YmPzvgipF9",
    "outputId": "1e92824e-f2ba-4864-a5ad-d9ac7137d33b"
   },
   "outputs": [],
   "source": [
    "df.info()"
   ]
  },
  {
   "cell_type": "code",
   "execution_count": null,
   "metadata": {
    "colab": {
     "base_uri": "https://localhost:8080/",
     "height": 363
    },
    "id": "v18cKdcekMmk",
    "outputId": "5f790fdf-ddca-43d9-c74f-c5ac287dc1ae"
   },
   "outputs": [],
   "source": [
    "# importando dados de venda de carros com valores ausentes\n",
    "df2 = pd.read_csv(\"venda-de-carros-dados-ausentes.csv\")\n",
    "df2"
   ]
  },
  {
   "cell_type": "code",
   "execution_count": null,
   "metadata": {
    "colab": {
     "base_uri": "https://localhost:8080/",
     "height": 363
    },
    "id": "_6oC3SMi-Bgt",
    "outputId": "62751932-6b4e-4b4d-adf1-958f1b303ea6"
   },
   "outputs": [],
   "source": [
    "# preenchendo dados ausentes na coluna de Quilometragem\n",
    "df2[\"Quilometragem\"].fillna(df2[\"Quilometragem\"].mean(), inplace=True)\n",
    "df2"
   ]
  },
  {
   "cell_type": "code",
   "execution_count": null,
   "metadata": {
    "colab": {
     "base_uri": "https://localhost:8080/",
     "height": 237
    },
    "id": "YY9V_sfO86qb",
    "outputId": "aaf0b3ed-016b-4eb8-e008-5c151a1c0715"
   },
   "outputs": [],
   "source": [
    "# utilizando inplace=True\n",
    "df2.dropna(inplace=True)\n",
    "df2"
   ]
  },
  {
   "cell_type": "code",
   "execution_count": null,
   "metadata": {
    "colab": {
     "base_uri": "https://localhost:8080/",
     "height": 363
    },
    "id": "-PX7CyXyAIev",
    "outputId": "8737fa1d-a56f-498a-9f6f-b9f76313ebc2"
   },
   "outputs": [],
   "source": [
    "# criando uma nova coluna a partir de uma Series\n",
    "qtde_assentos = pd.Series([5, 5, 5, 5, 5, 5, 5, 5, 5, 5])\n",
    "df[\"Assentos\"] = qtde_assentos\n",
    "df"
   ]
  },
  {
   "cell_type": "code",
   "execution_count": null,
   "metadata": {
    "colab": {
     "base_uri": "https://localhost:8080/",
     "height": 363
    },
    "id": "5xfgnkYnCbIk",
    "outputId": "a9ea374b-60c9-4836-d314-c803a24d2236"
   },
   "outputs": [],
   "source": [
    "# criando uma nova coluna a partir de uma Lista Python\n",
    "motor_lista = [1.3, 2.0, 3.0, 4.2, 1.6, 1, 2.0, 2.3, 2.0, 3.0]\n",
    "df[\"Motor\"] = motor_lista\n",
    "df"
   ]
  },
  {
   "cell_type": "code",
   "execution_count": null,
   "metadata": {
    "colab": {
     "base_uri": "https://localhost:8080/",
     "height": 363
    },
    "id": "DDSau8tBDdsx",
    "outputId": "52aef9a7-a580-42f6-819a-609a00b108f8"
   },
   "outputs": [],
   "source": [
    "# criando uma nova coluna a partir de outras colunas\n",
    "df[\"Preco por KM\"] = df[\"Preco\"] / df[\"Quilometragem\"]\n",
    "df"
   ]
  },
  {
   "cell_type": "code",
   "execution_count": null,
   "metadata": {
    "colab": {
     "base_uri": "https://localhost:8080/",
     "height": 363
    },
    "id": "Bfna9M-yEPJc",
    "outputId": "2880df43-4856-465b-c65e-86c12ffa92ad"
   },
   "outputs": [],
   "source": [
    "# removendo uma coluna\n",
    "df = df.drop(\"Preco por KM\", axis=1)\n",
    "df"
   ]
  },
  {
   "cell_type": "code",
   "execution_count": null,
   "metadata": {
    "colab": {
     "base_uri": "https://localhost:8080/",
     "height": 363
    },
    "id": "tQL9OY_4Ft4o",
    "outputId": "7e7469c8-8aba-473e-a163-bf1eefce17a0"
   },
   "outputs": [],
   "source": [
    "# criando uma amostra embaralhada\n",
    "df_sample = df.sample(frac=1)\n",
    "df_sample"
   ]
  },
  {
   "cell_type": "code",
   "execution_count": null,
   "metadata": {
    "colab": {
     "base_uri": "https://localhost:8080/",
     "height": 363
    },
    "id": "DwsduWB2Odpr",
    "outputId": "6b54951a-ac63-4b92-d290-3d92da5a4dcd"
   },
   "outputs": [],
   "source": [
    "# resetando os valores do índice\n",
    "df_sample.reset_index()"
   ]
  },
  {
   "cell_type": "code",
   "execution_count": null,
   "metadata": {
    "id": "ydCiYDBHPOe4"
   },
   "outputs": [],
   "source": []
  }
 ],
 "metadata": {
  "colab": {
   "collapsed_sections": [],
   "name": "conhecendo-o-pandas",
   "provenance": []
  },
  "kernelspec": {
   "display_name": "Python 3 (ipykernel)",
   "language": "python",
   "name": "python3"
  },
  "language_info": {
   "codemirror_mode": {
    "name": "ipython",
    "version": 3
   },
   "file_extension": ".py",
   "mimetype": "text/x-python",
   "name": "python",
   "nbconvert_exporter": "python",
   "pygments_lexer": "ipython3",
   "version": "3.12.7"
  }
 },
 "nbformat": 4,
 "nbformat_minor": 4
}
