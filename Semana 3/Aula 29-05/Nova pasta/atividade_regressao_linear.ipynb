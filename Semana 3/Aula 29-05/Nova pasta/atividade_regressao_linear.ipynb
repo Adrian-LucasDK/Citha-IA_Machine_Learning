{
 "cells": [
  {
   "cell_type": "code",
   "execution_count": null,
   "id": "3f68b933-2366-45ab-968c-c5d646b2aea2",
   "metadata": {},
   "outputs": [],
   "source": [
    "# 📊 ATIVIDADE PRÁTICA DE MACHINE LEARNING PARA INICIANTES\n",
    "# Tema: Prevendo Salários com Regressão Linear Simples\n",
    "# Base de dados: salarios_experiencia.csv\n",
    "\n",
    "# -------------------------------------\n",
    "# 1. Importar bibliotecas\n",
    "# -------------------------------------\n",
    "import pandas as pd  # Biblioteca para manipulação de dados em formato de tabelas (DataFrames)\n",
    "import numpy as np  # Biblioteca para cálculos numéricos\n",
    "import matplotlib.pyplot as plt  # Biblioteca para criação de gráficos\n",
    "from sklearn.linear_model import LinearRegression  # Importa o modelo de regressão linear\n",
    "from sklearn.model_selection import train_test_split  # Função para dividir dados em treino e teste\n",
    "from sklearn.metrics import mean_squared_error, r2_score  # Funções para avaliar o modelo\n"
   ]
  },
  {
   "cell_type": "code",
   "execution_count": null,
   "id": "ad123fcc-351e-43ff-9bde-4f55567a35eb",
   "metadata": {},
   "outputs": [],
   "source": [
    "# -------------------------------------\n",
    "# 2. Carregar os dados\n",
    "# -------------------------------------\n",
    "df = pd.read_csv(\"salarios_experiencia.csv\")  # Lê o arquivo CSV e armazena em um DataFrame\n",
    "df.head()  # Mostra as 5 primeiras linhas da tabela"
   ]
  },
  {
   "cell_type": "code",
   "execution_count": null,
   "id": "354d738c-35f0-4a77-b681-d3fd3cff672d",
   "metadata": {},
   "outputs": [],
   "source": [
    "# -------------------------------------\n",
    "# 3. Separar os dados em X e y\n",
    "# -------------------------------------\n",
    "X = df[[\"Experiencia\"]]  # Seleciona a coluna 'Experiencia' como entrada (precisa ser 2D)\n",
    "y = df[\"Salario\"]  # Seleciona a coluna 'Salario' como saída"
   ]
  },
  {
   "cell_type": "code",
   "execution_count": null,
   "id": "c9d379d7-01dd-4d92-9efb-ca6076e35338",
   "metadata": {},
   "outputs": [],
   "source": [
    "# -------------------------------------\n",
    "# 4. Dividir os dados em treino e teste\n",
    "# -------------------------------------\n",
    "X_train, X_test, y_train, y_test = train_test_split(X, y, test_size=0.3, random_state=42)"
   ]
  },
  {
   "cell_type": "code",
   "execution_count": null,
   "id": "7b76a3bc-ca2b-4f2e-b660-fbd4a30dbd6c",
   "metadata": {},
   "outputs": [],
   "source": [
    "# -------------------------------------\n",
    "# 5. Criar e treinar o modelo\n",
    "# -------------------------------------\n",
    "modelo = LinearRegression()\n",
    "modelo.fit(X_train, y_train)"
   ]
  },
  {
   "cell_type": "code",
   "execution_count": null,
   "id": "a497a4fd-d28b-4714-a3f8-a413a490d8db",
   "metadata": {},
   "outputs": [],
   "source": [
    "# -------------------------------------\n",
    "# 6. Fazer previsões\n",
    "# -------------------------------------\n",
    "y_pred = modelo.predict(X_test)"
   ]
  },
  {
   "cell_type": "code",
   "execution_count": null,
   "id": "c65698dd-c77a-418b-b47e-5b4644248f00",
   "metadata": {},
   "outputs": [],
   "source": [
    "# -------------------------------------\n",
    "# 7. Avaliar o modelo\n",
    "# -------------------------------------\n",
    "mse = mean_squared_error(y_test, y_pred)\n",
    "rmse = np.sqrt(mse)\n",
    "r2 = r2_score(y_test, y_pred)\n",
    "\n",
    "print(f\"\\nErro médio quadrático (MSE): {mse:.2f}\")\n",
    "print(f\"Raiz do erro médio quadrático (RMSE): {rmse:.2f}\")\n",
    "print(f\"Coeficiente de determinação (R²): {r2:.2f}\")"
   ]
  },
  {
   "cell_type": "code",
   "execution_count": null,
   "id": "a3ae6f3c-7293-4d6c-88a6-73562b082101",
   "metadata": {},
   "outputs": [],
   "source": [
    "# -------------------------------------\n",
    "# 8. Fazer previsão para um novo valor\n",
    "# -------------------------------------\n",
    "experiencia_teste = [[6.5]]\n",
    "salario_previsto = modelo.predict(experiencia_teste)\n",
    "print(f\"\\nPara 6.5 anos de experiência, o salário previsto é: R${salario_previsto[0]:.2f}\")"
   ]
  },
  {
   "cell_type": "code",
   "execution_count": null,
   "id": "6e3e3d35-6e8d-4dc3-b02c-90cbaf7f0b7c",
   "metadata": {},
   "outputs": [],
   "source": [
    "# -------------------------------------\n",
    "# 9. Visualizar a reta de regressão\n",
    "# -------------------------------------\n",
    "plt.figure(figsize=(8, 5))\n",
    "plt.scatter(X, y, color=\"blue\", label=\"Dados reais\")\n",
    "plt.plot(X, modelo.predict(X), color=\"red\", label=\"Reta de regressão\")\n",
    "plt.xlabel(\"Anos de Experiência\")\n",
    "plt.ylabel(\"Salário (R$)\")\n",
    "plt.title(\"Regressão Linear Simples\")\n",
    "plt.legend()\n",
    "plt.grid(True)\n",
    "plt.show()"
   ]
  },
  {
   "cell_type": "code",
   "execution_count": null,
   "id": "5c4704b7-8b0c-480c-9752-63a444a18db3",
   "metadata": {},
   "outputs": [],
   "source": []
  }
 ],
 "metadata": {
  "kernelspec": {
   "display_name": "Python 3",
   "language": "python",
   "name": "python3"
  },
  "language_info": {
   "codemirror_mode": {
    "name": "ipython",
    "version": 3
   },
   "file_extension": ".py",
   "mimetype": "text/x-python",
   "name": "python",
   "nbconvert_exporter": "python",
   "pygments_lexer": "ipython3",
   "version": "3.13.3"
  }
 },
 "nbformat": 4,
 "nbformat_minor": 5
}
